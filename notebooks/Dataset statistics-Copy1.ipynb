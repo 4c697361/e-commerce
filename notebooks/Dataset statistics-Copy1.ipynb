{
 "cells": [
  {
   "cell_type": "code",
   "execution_count": 38,
   "metadata": {},
   "outputs": [
    {
     "name": "stdout",
     "output_type": "stream",
     "text": [
      "The autoreload extension is already loaded. To reload it, use:\n",
      "  %reload_ext autoreload\n"
     ]
    }
   ],
   "source": [
    "%load_ext autoreload\n",
    "%autoreload 2\n",
    "\n",
    "import numpy as np\n",
    "import pandas as pd\n",
    "import matplotlib.pyplot as plt\n",
    "\n",
    "# split into words\n",
    "from nltk.tokenize import word_tokenize\n",
    "from nltk.corpus import stopwords\n",
    "from nltk.stem.porter import PorterStemmer\n",
    "import string\n",
    "from collections import Counter\n",
    "\n",
    "import os\n",
    "from pathlib import Path\n",
    "\n",
    "\n",
    "\n",
    "import src.utils.utils as ut\n",
    "import src.utils.model_utils as mu\n",
    "import src.utils.sparse_matrix as sm\n",
    "import src.data.dataframe as dat\n",
    "import src.features.build_features as bf"
   ]
  },
  {
   "cell_type": "markdown",
   "metadata": {},
   "source": [
    "# First step:  load the description file (.csv) and have a look at it\n",
    "\n",
    "**Remarks:**\n",
    "It appears that the delimiter is not a default one, e.g. a space, but rather a semicolon.  We account for that while loading."
   ]
  },
  {
   "cell_type": "code",
   "execution_count": 39,
   "metadata": {},
   "outputs": [
    {
     "data": {
      "text/plain": [
       "141"
      ]
     },
     "execution_count": 39,
     "metadata": {},
     "output_type": "execute_result"
    }
   ],
   "source": [
    "df = dat.read_df(os.path.join(ut.dirs.raw_dir,\n",
    "                              ut.df_names.original_df))\n",
    "df = dat.read_df(os.path.join(ut.dirs.processed_dir, ut.df_names.cleaned_df))\n",
    "df.head()\n",
    "\n",
    "len(df['category'].value_counts())"
   ]
  },
  {
   "cell_type": "code",
   "execution_count": 40,
   "metadata": {},
   "outputs": [
    {
     "name": "stdout",
     "output_type": "stream",
     "text": [
      "<class 'pandas.core.frame.DataFrame'>\n",
      "RangeIndex: 9171 entries, 0 to 9170\n",
      "Data columns (total 16 columns):\n",
      "Unnamed: 0              9171 non-null int64\n",
      "Unnamed: 0.1            9171 non-null int64\n",
      "sku                     9171 non-null int64\n",
      "title                   9171 non-null object\n",
      "category                9171 non-null object\n",
      "image_url               9171 non-null object\n",
      "reduced_title           9171 non-null object\n",
      "product_category        9171 non-null object\n",
      "product_type            9171 non-null object\n",
      "product_details         9171 non-null object\n",
      "tokenized_title         9171 non-null object\n",
      "imagename               9171 non-null object\n",
      "cat_category            9171 non-null int64\n",
      "cat_product_category    9171 non-null int64\n",
      "cat_product_type        9171 non-null int64\n",
      "cat_product_details     9171 non-null int64\n",
      "dtypes: int64(7), object(9)\n",
      "memory usage: 1.1+ MB\n"
     ]
    }
   ],
   "source": [
    "df.info()"
   ]
  },
  {
   "cell_type": "code",
   "execution_count": 41,
   "metadata": {},
   "outputs": [
    {
     "name": "stdout",
     "output_type": "stream",
     "text": [
      "Number of unique skus\n",
      "9171\n",
      "count    9.171000e+03\n",
      "mean     9.602538e+07\n",
      "std      2.757538e+07\n",
      "min      1.779470e+05\n",
      "25%      8.067147e+07\n",
      "50%      1.059824e+08\n",
      "75%      1.180641e+08\n",
      "max      1.238230e+08\n",
      "Name: sku, dtype: float64\n",
      "\n",
      "Number of different titles\n",
      "8851\n",
      "count         9171\n",
      "unique        8851\n",
      "top       Ohrringe\n",
      "freq            16\n",
      "Name: title, dtype: object\n",
      "\n",
      "Number of different categories\n",
      "141\n",
      "count                              9171\n",
      "unique                              141\n",
      "top       Kunst > Drucke > Digitaldruck\n",
      "freq                                648\n",
      "Name: category, dtype: object\n",
      "\n",
      "Number of different urls\n",
      "9171\n"
     ]
    }
   ],
   "source": [
    "print('Number of unique skus')\n",
    "print(df.sku.nunique())\n",
    "print(df['sku'].describe())\n",
    "print('')\n",
    "print('Number of different titles')\n",
    "print(df.title.nunique())\n",
    "print(df['title'].describe())\n",
    "print('')\n",
    "print('Number of different categories')\n",
    "print(df.category.nunique())\n",
    "print(df['category'].describe())\n",
    "print('')\n",
    "print('Number of different urls')\n",
    "print(df.image_url.nunique())"
   ]
  },
  {
   "cell_type": "code",
   "execution_count": 42,
   "metadata": {},
   "outputs": [
    {
     "data": {
      "text/plain": [
       "Unnamed: 0              0\n",
       "Unnamed: 0.1            0\n",
       "sku                     0\n",
       "title                   0\n",
       "category                0\n",
       "image_url               0\n",
       "reduced_title           0\n",
       "product_category        0\n",
       "product_type            0\n",
       "product_details         0\n",
       "tokenized_title         0\n",
       "imagename               0\n",
       "cat_category            0\n",
       "cat_product_category    0\n",
       "cat_product_type        0\n",
       "cat_product_details     0\n",
       "dtype: int64"
      ]
     },
     "execution_count": 42,
     "metadata": {},
     "output_type": "execute_result"
    }
   ],
   "source": [
    "df.isna().sum()"
   ]
  },
  {
   "cell_type": "code",
   "execution_count": 43,
   "metadata": {},
   "outputs": [
    {
     "name": "stdout",
     "output_type": "stream",
     "text": [
      "0.0 % of our samples miss a title\n"
     ]
    }
   ],
   "source": [
    "print(df.title.isna().sum()/len(df)*100, '% of our samples miss a title')"
   ]
  },
  {
   "cell_type": "markdown",
   "metadata": {},
   "source": [
    "## First results about the data\n",
    "\n",
    "We find that the data consists of 100.000 samples each described by \n",
    "* a unique sku (int64) and \n",
    "* a unique url (string) \n",
    "\n",
    "(those values to be unique is plausible).  Furthermore, each sample has \n",
    "\n",
    "* a title (string)\n",
    "* a category (string) which is an ensemble of subcategories\n",
    "\n",
    "**Remarks:**\n",
    "* We find 365 unique (sub)category ensembles\n",
    "* 110 samples miss a title\n",
    "* The title might be used later to enrich the information fed into the classifier.  Probably we will get rid of the 110 samples which miss this value.  Thereby, we lose less ~0.11 % of our data which is an acceptable trade-off for a first attempt."
   ]
  },
  {
   "cell_type": "markdown",
   "metadata": {},
   "source": [
    "# Next step:  expand the string-encoded category ensembles\n",
    "by adding rows to the dataframe.  \n",
    "\n",
    "This step is needed to gain some statistical insights into the distribution of samples among the different (sub)categories."
   ]
  },
  {
   "cell_type": "code",
   "execution_count": 44,
   "metadata": {},
   "outputs": [],
   "source": [
    "expanded_categories = df['category'].str.split(' > ')"
   ]
  },
  {
   "cell_type": "markdown",
   "metadata": {},
   "source": [
    "expanded_categories holds now a list of subcategories originally encoded in the category string.\n",
    "\n",
    "To enrich the dataframe by this information, we have to consider the number of subcategories originally encoded in the category string.  To this end, cound them:"
   ]
  },
  {
   "cell_type": "code",
   "execution_count": 45,
   "metadata": {},
   "outputs": [
    {
     "data": {
      "text/plain": [
       "3    9171\n",
       "Name: category, dtype: int64"
      ]
     },
     "execution_count": 45,
     "metadata": {},
     "output_type": "execute_result"
    }
   ],
   "source": [
    "expanded_categories.apply(lambda x: len(x)).value_counts()"
   ]
  },
  {
   "cell_type": "markdown",
   "metadata": {},
   "source": [
    "We find that each original category string consists of 3 (sub)categories.  With this insight we are safe to add this information to our dataframe by means of the following:"
   ]
  },
  {
   "cell_type": "code",
   "execution_count": 46,
   "metadata": {},
   "outputs": [],
   "source": [
    "expanded_categories = expanded_categories.\\\n",
    "            apply(pd.Series).\\\n",
    "            rename({0: 'product_category', \n",
    "                    1: 'product_type', \n",
    "                    2: 'product_details'}, axis='columns')"
   ]
  },
  {
   "cell_type": "code",
   "execution_count": 47,
   "metadata": {},
   "outputs": [
    {
     "ename": "ValueError",
     "evalue": "columns overlap but no suffix specified: Index(['product_category', 'product_type', 'product_details'], dtype='object')",
     "output_type": "error",
     "traceback": [
      "\u001b[0;31m---------------------------------------------------------------------------\u001b[0m",
      "\u001b[0;31mValueError\u001b[0m                                Traceback (most recent call last)",
      "\u001b[0;32m<ipython-input-47-fdc5e1e01c94>\u001b[0m in \u001b[0;36m<module>\u001b[0;34m()\u001b[0m\n\u001b[0;32m----> 1\u001b[0;31m \u001b[0mdf\u001b[0m \u001b[0;34m=\u001b[0m \u001b[0mdf\u001b[0m\u001b[0;34m.\u001b[0m\u001b[0mjoin\u001b[0m\u001b[0;34m(\u001b[0m\u001b[0mexpanded_categories\u001b[0m\u001b[0;34m)\u001b[0m\u001b[0;34m\u001b[0m\u001b[0m\n\u001b[0m",
      "\u001b[0;32m~/.local/lib/python3.6/site-packages/pandas/core/frame.py\u001b[0m in \u001b[0;36mjoin\u001b[0;34m(self, other, on, how, lsuffix, rsuffix, sort)\u001b[0m\n\u001b[1;32m   6334\u001b[0m         \u001b[0;31m# For SparseDataFrame's benefit\u001b[0m\u001b[0;34m\u001b[0m\u001b[0;34m\u001b[0m\u001b[0m\n\u001b[1;32m   6335\u001b[0m         return self._join_compat(other, on=on, how=how, lsuffix=lsuffix,\n\u001b[0;32m-> 6336\u001b[0;31m                                  rsuffix=rsuffix, sort=sort)\n\u001b[0m\u001b[1;32m   6337\u001b[0m \u001b[0;34m\u001b[0m\u001b[0m\n\u001b[1;32m   6338\u001b[0m     def _join_compat(self, other, on=None, how='left', lsuffix='', rsuffix='',\n",
      "\u001b[0;32m~/.local/lib/python3.6/site-packages/pandas/core/frame.py\u001b[0m in \u001b[0;36m_join_compat\u001b[0;34m(self, other, on, how, lsuffix, rsuffix, sort)\u001b[0m\n\u001b[1;32m   6349\u001b[0m             return merge(self, other, left_on=on, how=how,\n\u001b[1;32m   6350\u001b[0m                          \u001b[0mleft_index\u001b[0m\u001b[0;34m=\u001b[0m\u001b[0mon\u001b[0m \u001b[0;32mis\u001b[0m \u001b[0;32mNone\u001b[0m\u001b[0;34m,\u001b[0m \u001b[0mright_index\u001b[0m\u001b[0;34m=\u001b[0m\u001b[0;32mTrue\u001b[0m\u001b[0;34m,\u001b[0m\u001b[0;34m\u001b[0m\u001b[0m\n\u001b[0;32m-> 6351\u001b[0;31m                          suffixes=(lsuffix, rsuffix), sort=sort)\n\u001b[0m\u001b[1;32m   6352\u001b[0m         \u001b[0;32melse\u001b[0m\u001b[0;34m:\u001b[0m\u001b[0;34m\u001b[0m\u001b[0m\n\u001b[1;32m   6353\u001b[0m             \u001b[0;32mif\u001b[0m \u001b[0mon\u001b[0m \u001b[0;32mis\u001b[0m \u001b[0;32mnot\u001b[0m \u001b[0;32mNone\u001b[0m\u001b[0;34m:\u001b[0m\u001b[0;34m\u001b[0m\u001b[0m\n",
      "\u001b[0;32m~/.local/lib/python3.6/site-packages/pandas/core/reshape/merge.py\u001b[0m in \u001b[0;36mmerge\u001b[0;34m(left, right, how, on, left_on, right_on, left_index, right_index, sort, suffixes, copy, indicator, validate)\u001b[0m\n\u001b[1;32m     60\u001b[0m                          \u001b[0mcopy\u001b[0m\u001b[0;34m=\u001b[0m\u001b[0mcopy\u001b[0m\u001b[0;34m,\u001b[0m \u001b[0mindicator\u001b[0m\u001b[0;34m=\u001b[0m\u001b[0mindicator\u001b[0m\u001b[0;34m,\u001b[0m\u001b[0;34m\u001b[0m\u001b[0m\n\u001b[1;32m     61\u001b[0m                          validate=validate)\n\u001b[0;32m---> 62\u001b[0;31m     \u001b[0;32mreturn\u001b[0m \u001b[0mop\u001b[0m\u001b[0;34m.\u001b[0m\u001b[0mget_result\u001b[0m\u001b[0;34m(\u001b[0m\u001b[0;34m)\u001b[0m\u001b[0;34m\u001b[0m\u001b[0m\n\u001b[0m\u001b[1;32m     63\u001b[0m \u001b[0;34m\u001b[0m\u001b[0m\n\u001b[1;32m     64\u001b[0m \u001b[0;34m\u001b[0m\u001b[0m\n",
      "\u001b[0;32m~/.local/lib/python3.6/site-packages/pandas/core/reshape/merge.py\u001b[0m in \u001b[0;36mget_result\u001b[0;34m(self)\u001b[0m\n\u001b[1;32m    572\u001b[0m \u001b[0;34m\u001b[0m\u001b[0m\n\u001b[1;32m    573\u001b[0m         llabels, rlabels = items_overlap_with_suffix(ldata.items, lsuf,\n\u001b[0;32m--> 574\u001b[0;31m                                                      rdata.items, rsuf)\n\u001b[0m\u001b[1;32m    575\u001b[0m \u001b[0;34m\u001b[0m\u001b[0m\n\u001b[1;32m    576\u001b[0m         \u001b[0mlindexers\u001b[0m \u001b[0;34m=\u001b[0m \u001b[0;34m{\u001b[0m\u001b[0;36m1\u001b[0m\u001b[0;34m:\u001b[0m \u001b[0mleft_indexer\u001b[0m\u001b[0;34m}\u001b[0m \u001b[0;32mif\u001b[0m \u001b[0mleft_indexer\u001b[0m \u001b[0;32mis\u001b[0m \u001b[0;32mnot\u001b[0m \u001b[0;32mNone\u001b[0m \u001b[0;32melse\u001b[0m \u001b[0;34m{\u001b[0m\u001b[0;34m}\u001b[0m\u001b[0;34m\u001b[0m\u001b[0m\n",
      "\u001b[0;32m~/.local/lib/python3.6/site-packages/pandas/core/internals.py\u001b[0m in \u001b[0;36mitems_overlap_with_suffix\u001b[0;34m(left, lsuffix, right, rsuffix)\u001b[0m\n\u001b[1;32m   5242\u001b[0m         \u001b[0;32mif\u001b[0m \u001b[0;32mnot\u001b[0m \u001b[0mlsuffix\u001b[0m \u001b[0;32mand\u001b[0m \u001b[0;32mnot\u001b[0m \u001b[0mrsuffix\u001b[0m\u001b[0;34m:\u001b[0m\u001b[0;34m\u001b[0m\u001b[0m\n\u001b[1;32m   5243\u001b[0m             raise ValueError('columns overlap but no suffix specified: '\n\u001b[0;32m-> 5244\u001b[0;31m                              '{rename}'.format(rename=to_rename))\n\u001b[0m\u001b[1;32m   5245\u001b[0m \u001b[0;34m\u001b[0m\u001b[0m\n\u001b[1;32m   5246\u001b[0m         \u001b[0;32mdef\u001b[0m \u001b[0mlrenamer\u001b[0m\u001b[0;34m(\u001b[0m\u001b[0mx\u001b[0m\u001b[0;34m)\u001b[0m\u001b[0;34m:\u001b[0m\u001b[0;34m\u001b[0m\u001b[0m\n",
      "\u001b[0;31mValueError\u001b[0m: columns overlap but no suffix specified: Index(['product_category', 'product_type', 'product_details'], dtype='object')"
     ]
    }
   ],
   "source": [
    "df = df.join(expanded_categories)"
   ]
  },
  {
   "cell_type": "markdown",
   "metadata": {},
   "source": [
    "Now our dataframe is ready to gain insight into the distribution of (sub)categories.  \n",
    "\n",
    "# Step 3: investigate the distribution of (sub)categories\n",
    "\n",
    "First, we want to see how many items belong to each of the product_category "
   ]
  },
  {
   "cell_type": "code",
   "execution_count": null,
   "metadata": {},
   "outputs": [],
   "source": [
    "df['category_count'] = df.groupby(['category'])['category'].transform('count')\n",
    "df['product_category_count'] = df.groupby(['product_category'])['product_category'].transform('count')\n",
    "df['product_type_count'] = df.groupby(['product_type'])['product_type'].transform('count')\n",
    "df['product_details_count'] = df.groupby(['product_details'])['product_details'].transform('count')"
   ]
  },
  {
   "cell_type": "code",
   "execution_count": null,
   "metadata": {},
   "outputs": [],
   "source": [
    "plt.figure()\n",
    "ax = df['category'].value_counts().plot(kind='area')\n",
    "\n",
    "ax.get_xaxis().set_ticks([])\n",
    "ax.set_title('category frequency plot')\n",
    "ax.set_xlabel('category')\n",
    "ax.set_ylabel('frequency')\n",
    "\n",
    "plt.tight_layout()\n",
    "plt.show()"
   ]
  },
  {
   "cell_type": "code",
   "execution_count": 48,
   "metadata": {},
   "outputs": [
    {
     "data": {
      "image/png": "[encoded data removed]",
      "text/plain": [
       "<Figure size 432x288 with 1 Axes>"
      ]
     },
     "metadata": {},
     "output_type": "display_data"
    }
   ],
   "source": [
    "plt.figure()\n",
    "ax = df['product_category'].value_counts().plot(kind='bar')\n",
    "\n",
    "ax.set_title('product category distribution over entries')\n",
    "ax.set_xlabel('product category')\n",
    "ax.set_ylabel('frequency')\n",
    "\n",
    "plt.tight_layout()\n",
    "plt.show()"
   ]
  },
  {
   "cell_type": "code",
   "execution_count": 49,
   "metadata": {},
   "outputs": [
    {
     "data": {
      "image/png": "[encoded data removed]",
      "text/plain": [
       "<Figure size 792x792 with 3 Axes>"
      ]
     },
     "metadata": {},
     "output_type": "display_data"
    }
   ],
   "source": [
    "fig, axes = plt.subplots(nrows=3, ncols=1, sharey=True, figsize=(11,11))\n",
    "\n",
    "# Normalize value counts for better comparison\n",
    "def normalize_group(x):\n",
    "    label, repetition = x.index, x\n",
    "    t = sum(repetition)\n",
    "    r = [n/t for n in repetition]\n",
    "    return label, r\n",
    "\n",
    "for idx, g in enumerate(df.groupby('product_category')):\n",
    "    label, val = normalize_group(g[1][\"product_type\"].value_counts())\n",
    "    num = len(label)\n",
    "    ax = axes.flat[idx]\n",
    "    ax.bar(np.arange(num), val[:num],\n",
    "           tick_label=label[:num])     \n",
    "    for tick in ax.get_xticklabels():\n",
    "        tick.set_rotation(90)\n",
    "    \n",
    "    ax.set_yscale(\"log\", nonposy='clip')\n",
    "    ax.set_title(\"product category: {}\".format(g[0]))\n",
    "    \n",
    "fig.text(0.5, 0.97, 'product type frequency per product category', ha='center', fontsize=14, fontweight='bold')\n",
    "fig.text(0.5, 0, 'product type', ha='center', fontweight='bold')\n",
    "fig.text(0, 0.5, 'frequency', va='center', rotation='vertical', fontweight='bold')\n",
    "fig.tight_layout(rect=[0.03, 0.03, 0.95, 0.95])"
   ]
  },
  {
   "cell_type": "code",
   "execution_count": 50,
   "metadata": {},
   "outputs": [],
   "source": [
    "def extract_data(data = df, cat1 = None, cat2 = None):\n",
    "    temp = data['product_category'].value_counts()\n",
    "    checksum = np.sum(temp)\n",
    "    if cat1 != None:\n",
    "        temp = data[data['product_category'] == cat1]['product_type'].value_counts()\n",
    "        checksum = np.sum(temp)\n",
    "        if cat2 != None:\n",
    "            temp = data[(data['product_category'] == cat1) & \n",
    "                        (data['product_type'] == cat2)]['product_details'].value_counts()            \n",
    "    \n",
    "    labels = np.asarray(temp.keys().tolist())\n",
    "    counts = np.asarray(temp.tolist())\n",
    "    \n",
    "    median = np.percentile(counts, 50)\n",
    "    mean = np.mean(counts)\n",
    "    \n",
    "    return labels, counts, mean, median"
   ]
  },
  {
   "cell_type": "code",
   "execution_count": 51,
   "metadata": {},
   "outputs": [],
   "source": [
    "df['catcount'] = df.groupby(['category'])['category'].transform('count')"
   ]
  },
  {
   "cell_type": "markdown",
   "metadata": {},
   "source": [
    "# Next step:  investigate a bit more on the title feature\n",
    "\n",
    "We want to investigate the title feature in a bit more detail to get an idea if this information might be useful for further considerations.\n",
    "\n",
    "As a first approach one might investigate the length of the title with respect to its frequency of occurence.  \n",
    "\n",
    "The function prepare_data equalizes the length of each product category subset in order to plot the information encoded there."
   ]
  },
  {
   "cell_type": "code",
   "execution_count": 157,
   "metadata": {},
   "outputs": [],
   "source": [
    "df['length_title'] = df['title'].fillna('').apply(lambda x: x.split(' ')).apply(lambda x: len(x))\n",
    "df['red_length_title'] = df['reduced_title'].fillna('').apply(lambda x: len(x))"
   ]
  },
  {
   "cell_type": "code",
   "execution_count": 159,
   "metadata": {},
   "outputs": [
    {
     "data": {
      "text/plain": [
       "9"
      ]
     },
     "execution_count": 159,
     "metadata": {},
     "output_type": "execute_result"
    }
   ],
   "source": [
    "df.red_length_title.max()"
   ]
  },
  {
   "cell_type": "code",
   "execution_count": 169,
   "metadata": {},
   "outputs": [],
   "source": [
    "def prepare_data(column = 'title', product_category = None):\n",
    "    title_lengths = df[column].fillna('').apply(lambda x: len(x))\n",
    "    default_size = df.red_length_title.max() + 1\n",
    "    print(default_size)\n",
    "    if product_category != None:\n",
    "        if column == 'title':\n",
    "            title_lengths = df[df['product_category'] == product_category][column].fillna('').apply(lambda x: x.split(' ')).apply(lambda x: len(x))\n",
    "        else:\n",
    "            title_lengths = df[df['product_category'] == product_category][column].fillna('').apply(lambda x: len(x))\n",
    "\n",
    "    \n",
    "    mean = np.mean(title_lengths)\n",
    "    median = np.percentile(title_lengths, 50)\n",
    "    \n",
    "    counter = title_lengths.value_counts()\n",
    "    \n",
    "    string_lengths = np.asarray(counter.keys().tolist())\n",
    "    ix = np.argsort(string_lengths)\n",
    "    \n",
    "    print(string_lengths, ix, len(string_lengths))\n",
    "    string_lengths = string_lengths[ix]\n",
    "    string_length_counts = np.asarray(counter.tolist())[ix]\n",
    "    temp = np.zeros(default_size, dtype=int)\n",
    "    temp[string_lengths] = string_length_counts\n",
    "    string_length_counts = temp\n",
    "    string_lengths = np.arange(default_size)\n",
    "        \n",
    "    assert (len(string_lengths) == default_size)\n",
    "    \n",
    "    return string_lengths, string_length_counts, mean, median"
   ]
  },
  {
   "cell_type": "markdown",
   "metadata": {},
   "source": [
    "Define the plotting function.  This function creates a histogram showing the *title lengths vs. counts* for each product category (Schmuck, Taschen, Kunst) as well as a comprehensive histogram."
   ]
  },
  {
   "cell_type": "code",
   "execution_count": 170,
   "metadata": {},
   "outputs": [],
   "source": [
    "def title_statistics(data = df, column = 'title'):    \n",
    "    f, ax = plt.subplots(nrows=4, ncols=1, sharey=True, figsize=(11,11))\n",
    "\n",
    "    colors = ['#990000', '#009999', '#404040']   \n",
    "    \n",
    "    categories = list(set(data.product_category.values))\n",
    "    \n",
    "    lengths = []\n",
    "    counts = []\n",
    "    p = []\n",
    "   \n",
    "    for i, cat in enumerate(categories):\n",
    "        l, c, mean, median = prepare_data(column, cat)        \n",
    "        lengths.append(l)\n",
    "        counts.append(c)\n",
    "        \n",
    "        ax[i].bar(l, c, color = colors[i], label=cat)\n",
    "        \n",
    "        #ax[i].set_title(cat + ' title statistics', fontsize=15)\n",
    "        ax[i].set_ylabel('counts', fontsize = 15)\n",
    "        ax[i].legend(loc=\"upper left\", fontsize=15)\n",
    "        ax[i].tick_params(labelsize = 15)\n",
    "        ax[i].tick_params(\n",
    "            axis='x',          # changes apply to the x-axis\n",
    "            which='both',      # both major and minor ticks are affected\n",
    "            bottom='off',      # ticks along the bottom edge are off\n",
    "            top='off',         # ticks along the top edge are off\n",
    "            labelbottom='off')\n",
    "        \n",
    "        ax[i].axvline(median, color='black', linewidth=2)\n",
    "        ax[i].axvline(mean, color='black', linewidth=2)\n",
    "\n",
    "        # Add arrows annotating the means:\n",
    "        for name, x0, xoff in zip(['Median', 'Mean'], [median, mean], [15, -15]):\n",
    "            align = 'left' if xoff > 0 else 'right'\n",
    "            ax[i].annotate(name+': {:0.2f}'.format(x0), xy=(x0, 1), xytext=(xoff, 10),\n",
    "                    xycoords=('data', 'axes fraction'), textcoords='offset points',\n",
    "                    horizontalalignment=align, verticalalignment='center',\n",
    "                    arrowprops=dict(arrowstyle='-|>', fc='black', shrinkA=0, shrinkB=0,\n",
    "                                    connectionstyle='angle,angleA=0,angleB=90,rad=10'),\n",
    "                    )\n",
    "        \n",
    "\n",
    "        \n",
    "    for i in reversed(range(len(counts))):        \n",
    "        p.append(plt.bar(lengths[i], counts[i], \n",
    "                         bottom = np.sum([counts[j] for j in range(i)], axis=0), \n",
    "                         color = colors[i],\n",
    "                         label = categories[i]))\n",
    "\n",
    "    \n",
    "    ax[3].set_title('overall title statistics', fontsize=15)\n",
    "    ax[3].set_xlabel('title lengths', fontsize = 15)\n",
    "    ax[3].set_ylabel('counts', fontsize = 15)\n",
    "    ax[3].legend(loc=\"upper left\", fontsize=15)\n",
    "    ax[3].tick_params(labelsize = 15)\n",
    "    \n",
    "    \n",
    "    fig.text(0.5, 0.97, 'product type frequency per product category', ha='center', fontsize=14, fontweight='bold')\n",
    "    fig.text(0.5, 0, 'product type', ha='center', fontweight='bold')\n",
    "    fig.text(0, 0.5, 'frequency', va='center', rotation='vertical', fontweight='bold')\n",
    "    #fig.tight_layout(rect=[0.03, 0.03, 0.95, 0.95])\n",
    "    plt.show()"
   ]
  },
  {
   "cell_type": "markdown",
   "metadata": {},
   "source": [
    "Plot the title lengths vs. counts for each product category:"
   ]
  },
  {
   "cell_type": "code",
   "execution_count": 171,
   "metadata": {},
   "outputs": [
    {
     "name": "stdout",
     "output_type": "stream",
     "text": [
      "10\n",
      "[4 3 5 2 6 1 7 8] [5 3 1 0 2 4 6 7] 8\n",
      "10\n",
      "[3 4 2 5 1 6 7 8 9] [4 2 0 1 3 5 6 7 8] 9\n",
      "10\n",
      "[4 3 5 2 6 1 7 8] [5 3 1 0 2 4 6 7] 8\n"
     ]
    },
    {
     "name": "stderr",
     "output_type": "stream",
     "text": [
      "/home/lisa/.local/lib/python3.6/site-packages/matplotlib/cbook/deprecation.py:107: MatplotlibDeprecationWarning: Passing one of 'on', 'true', 'off', 'false' as a boolean is deprecated; use an actual boolean (True/False) instead.\n",
      "  warnings.warn(message, mplDeprecation, stacklevel=1)\n"
     ]
    },
    {
     "data": {
      "image/png": "[encoded data removed]",
      "text/plain": [
       "<Figure size 792x792 with 4 Axes>"
      ]
     },
     "metadata": {},
     "output_type": "display_data"
    }
   ],
   "source": [
    "title_statistics(df, 'reduced_title')"
   ]
  },
  {
   "cell_type": "markdown",
   "metadata": {},
   "source": [
    "## Intermediate results:  \n",
    "\n",
    "From the histograms it becomes evient that maximum length of titles describing the products is 50 characters.  \n",
    "\n",
    "The distributions are strongly left-skewed (dog food).  \n",
    "\n",
    "\n",
    "# Next step:  clean the titles\n",
    "As a next step, we'd like to clean the titles from \n",
    "\n",
    "* stop words\n",
    "* words, that are not important for the content (deadlist)\n",
    "* words, that are shorter than 3 characters\n",
    "* words, that are composed from one and the same character (e.g. iii)\n",
    "\n",
    "Furthermore we'd like to \n",
    "\n",
    "* reduce the words to their stemms\n",
    "* transfer them into lower case representation\n",
    "* transfer German umlauts into vowels\n",
    "* reduce the words to their stemms\n"
   ]
  },
  {
   "cell_type": "code",
   "execution_count": 163,
   "metadata": {},
   "outputs": [],
   "source": [
    "def cleaning(text):\n",
    "    deadlist = ['mit', 'xxl', 'xxxl', 'uvp', 'xcm', 'grs', 'grm', 'grl', 'tlg','xxcm', 'xcm']\n",
    "    transfer = {\n",
    "        ord('ä'): 'ae',\n",
    "        ord('ö'): 'oe',\n",
    "        ord('ü'): 'ue',\n",
    "        ord('ß'): 'ss'\n",
    "    }\n",
    "    # tokenize the text string\n",
    "    tokens = word_tokenize(text)\n",
    "    \n",
    "    # convert to lower case\n",
    "    tokens = [w.lower() for w in tokens]\n",
    "    \n",
    "    # transfer German umlauts into vowels\n",
    "    tokens = [w.translate(transfer) for w in tokens]\n",
    "    \n",
    "    # remove punctuation and digits from each word\n",
    "    table = str.maketrans('', '', string.punctuation + string.digits)\n",
    "    stripped = [w.translate(table) for w in tokens]\n",
    "    \n",
    "    # remove remaining tokens that are not alphabetic\n",
    "    words = [word for word in stripped if word.isalpha()]    \n",
    "\n",
    "    # reduce words to their stemms\n",
    "    porter = PorterStemmer()\n",
    "    stemmed = list(set([porter.stem(word) for word in words]))\n",
    "    \n",
    "    # filter out \n",
    "    #   stop words, \n",
    "    #   words that are contained in the deadlist, \n",
    "    #   words that are shorter than 3 characters and \n",
    "    #   words which are assembled only from one and the same identical character\n",
    "    stop_words = set(stopwords.words(['english', 'german']) + deadlist)\n",
    "    words = [w for w in stemmed if not w in stop_words and len(w) > 2 and len(Counter(w)) > 1]\n",
    "    \n",
    "    # et voilà \n",
    "    return words"
   ]
  },
  {
   "cell_type": "code",
   "execution_count": 164,
   "metadata": {},
   "outputs": [],
   "source": [
    "df['reduced_title'] = df['title'].fillna('').apply(lambda x: cleaning(x))\n",
    "df['concat_reduced_title'] = df['reduced_title'].apply(lambda x: ' '.join(x))\n",
    "df['length_reduced_title'] = df['reduced_title'].apply(lambda x: len(x))"
   ]
  },
  {
   "cell_type": "code",
   "execution_count": 165,
   "metadata": {},
   "outputs": [
    {
     "name": "stdout",
     "output_type": "stream",
     "text": [
      "14\n",
      "[4 3 5 2 6 1 7 8] [5 3 1 0 2 4 6 7] 8\n"
     ]
    },
    {
     "ename": "ValueError",
     "evalue": "shape mismatch: objects cannot be broadcast to a single shape",
     "output_type": "error",
     "traceback": [
      "\u001b[0;31m---------------------------------------------------------------------------\u001b[0m",
      "\u001b[0;31mValueError\u001b[0m                                Traceback (most recent call last)",
      "\u001b[0;32m<ipython-input-165-25302b81ba9d>\u001b[0m in \u001b[0;36m<module>\u001b[0;34m()\u001b[0m\n\u001b[0;32m----> 1\u001b[0;31m \u001b[0mtitle_statistics\u001b[0m\u001b[0;34m(\u001b[0m\u001b[0mdf\u001b[0m\u001b[0;34m,\u001b[0m \u001b[0;34m'reduced_title'\u001b[0m\u001b[0;34m)\u001b[0m\u001b[0;34m\u001b[0m\u001b[0m\n\u001b[0m",
      "\u001b[0;32m<ipython-input-161-f1d271c97498>\u001b[0m in \u001b[0;36mtitle_statistics\u001b[0;34m(data, column)\u001b[0m\n\u001b[1;32m     15\u001b[0m         \u001b[0mcounts\u001b[0m\u001b[0;34m.\u001b[0m\u001b[0mappend\u001b[0m\u001b[0;34m(\u001b[0m\u001b[0mc\u001b[0m\u001b[0;34m)\u001b[0m\u001b[0;34m\u001b[0m\u001b[0m\n\u001b[1;32m     16\u001b[0m \u001b[0;34m\u001b[0m\u001b[0m\n\u001b[0;32m---> 17\u001b[0;31m         \u001b[0max\u001b[0m\u001b[0;34m[\u001b[0m\u001b[0mi\u001b[0m\u001b[0;34m]\u001b[0m\u001b[0;34m.\u001b[0m\u001b[0mbar\u001b[0m\u001b[0;34m(\u001b[0m\u001b[0ml\u001b[0m\u001b[0;34m,\u001b[0m \u001b[0mc\u001b[0m\u001b[0;34m,\u001b[0m \u001b[0mcolor\u001b[0m \u001b[0;34m=\u001b[0m \u001b[0mcolors\u001b[0m\u001b[0;34m[\u001b[0m\u001b[0mi\u001b[0m\u001b[0;34m]\u001b[0m\u001b[0;34m,\u001b[0m \u001b[0mlabel\u001b[0m\u001b[0;34m=\u001b[0m\u001b[0mcat\u001b[0m\u001b[0;34m)\u001b[0m\u001b[0;34m\u001b[0m\u001b[0m\n\u001b[0m\u001b[1;32m     18\u001b[0m \u001b[0;34m\u001b[0m\u001b[0m\n\u001b[1;32m     19\u001b[0m         \u001b[0;31m#ax[i].set_title(cat + ' title statistics', fontsize=15)\u001b[0m\u001b[0;34m\u001b[0m\u001b[0;34m\u001b[0m\u001b[0m\n",
      "\u001b[0;32m~/.local/lib/python3.6/site-packages/matplotlib/__init__.py\u001b[0m in \u001b[0;36minner\u001b[0;34m(ax, *args, **kwargs)\u001b[0m\n\u001b[1;32m   1853\u001b[0m                         \u001b[0;34m\"the Matplotlib list!)\"\u001b[0m \u001b[0;34m%\u001b[0m \u001b[0;34m(\u001b[0m\u001b[0mlabel_namer\u001b[0m\u001b[0;34m,\u001b[0m \u001b[0mfunc\u001b[0m\u001b[0;34m.\u001b[0m\u001b[0m__name__\u001b[0m\u001b[0;34m)\u001b[0m\u001b[0;34m,\u001b[0m\u001b[0;34m\u001b[0m\u001b[0m\n\u001b[1;32m   1854\u001b[0m                         RuntimeWarning, stacklevel=2)\n\u001b[0;32m-> 1855\u001b[0;31m             \u001b[0;32mreturn\u001b[0m \u001b[0mfunc\u001b[0m\u001b[0;34m(\u001b[0m\u001b[0max\u001b[0m\u001b[0;34m,\u001b[0m \u001b[0;34m*\u001b[0m\u001b[0margs\u001b[0m\u001b[0;34m,\u001b[0m \u001b[0;34m**\u001b[0m\u001b[0mkwargs\u001b[0m\u001b[0;34m)\u001b[0m\u001b[0;34m\u001b[0m\u001b[0m\n\u001b[0m\u001b[1;32m   1856\u001b[0m \u001b[0;34m\u001b[0m\u001b[0m\n\u001b[1;32m   1857\u001b[0m         inner.__doc__ = _add_data_doc(inner.__doc__,\n",
      "\u001b[0;32m~/.local/lib/python3.6/site-packages/matplotlib/axes/_axes.py\u001b[0m in \u001b[0;36mbar\u001b[0;34m(self, *args, **kwargs)\u001b[0m\n\u001b[1;32m   2231\u001b[0m         x, height, width, y, linewidth = np.broadcast_arrays(\n\u001b[1;32m   2232\u001b[0m             \u001b[0;31m# Make args iterable too.\u001b[0m\u001b[0;34m\u001b[0m\u001b[0;34m\u001b[0m\u001b[0m\n\u001b[0;32m-> 2233\u001b[0;31m             np.atleast_1d(x), height, width, y, linewidth)\n\u001b[0m\u001b[1;32m   2234\u001b[0m \u001b[0;34m\u001b[0m\u001b[0m\n\u001b[1;32m   2235\u001b[0m         \u001b[0;31m# Now that units have been converted, set the tick locations.\u001b[0m\u001b[0;34m\u001b[0m\u001b[0;34m\u001b[0m\u001b[0m\n",
      "\u001b[0;32m~/anaconda3/lib/python3.6/site-packages/numpy/lib/stride_tricks.py\u001b[0m in \u001b[0;36mbroadcast_arrays\u001b[0;34m(*args, **kwargs)\u001b[0m\n\u001b[1;32m    247\u001b[0m     \u001b[0margs\u001b[0m \u001b[0;34m=\u001b[0m \u001b[0;34m[\u001b[0m\u001b[0mnp\u001b[0m\u001b[0;34m.\u001b[0m\u001b[0marray\u001b[0m\u001b[0;34m(\u001b[0m\u001b[0m_m\u001b[0m\u001b[0;34m,\u001b[0m \u001b[0mcopy\u001b[0m\u001b[0;34m=\u001b[0m\u001b[0;32mFalse\u001b[0m\u001b[0;34m,\u001b[0m \u001b[0msubok\u001b[0m\u001b[0;34m=\u001b[0m\u001b[0msubok\u001b[0m\u001b[0;34m)\u001b[0m \u001b[0;32mfor\u001b[0m \u001b[0m_m\u001b[0m \u001b[0;32min\u001b[0m \u001b[0margs\u001b[0m\u001b[0;34m]\u001b[0m\u001b[0;34m\u001b[0m\u001b[0m\n\u001b[1;32m    248\u001b[0m \u001b[0;34m\u001b[0m\u001b[0m\n\u001b[0;32m--> 249\u001b[0;31m     \u001b[0mshape\u001b[0m \u001b[0;34m=\u001b[0m \u001b[0m_broadcast_shape\u001b[0m\u001b[0;34m(\u001b[0m\u001b[0;34m*\u001b[0m\u001b[0margs\u001b[0m\u001b[0;34m)\u001b[0m\u001b[0;34m\u001b[0m\u001b[0m\n\u001b[0m\u001b[1;32m    250\u001b[0m \u001b[0;34m\u001b[0m\u001b[0m\n\u001b[1;32m    251\u001b[0m     \u001b[0;32mif\u001b[0m \u001b[0mall\u001b[0m\u001b[0;34m(\u001b[0m\u001b[0marray\u001b[0m\u001b[0;34m.\u001b[0m\u001b[0mshape\u001b[0m \u001b[0;34m==\u001b[0m \u001b[0mshape\u001b[0m \u001b[0;32mfor\u001b[0m \u001b[0marray\u001b[0m \u001b[0;32min\u001b[0m \u001b[0margs\u001b[0m\u001b[0;34m)\u001b[0m\u001b[0;34m:\u001b[0m\u001b[0;34m\u001b[0m\u001b[0m\n",
      "\u001b[0;32m~/anaconda3/lib/python3.6/site-packages/numpy/lib/stride_tricks.py\u001b[0m in \u001b[0;36m_broadcast_shape\u001b[0;34m(*args)\u001b[0m\n\u001b[1;32m    182\u001b[0m     \u001b[0;31m# use the old-iterator because np.nditer does not handle size 0 arrays\u001b[0m\u001b[0;34m\u001b[0m\u001b[0;34m\u001b[0m\u001b[0m\n\u001b[1;32m    183\u001b[0m     \u001b[0;31m# consistently\u001b[0m\u001b[0;34m\u001b[0m\u001b[0;34m\u001b[0m\u001b[0m\n\u001b[0;32m--> 184\u001b[0;31m     \u001b[0mb\u001b[0m \u001b[0;34m=\u001b[0m \u001b[0mnp\u001b[0m\u001b[0;34m.\u001b[0m\u001b[0mbroadcast\u001b[0m\u001b[0;34m(\u001b[0m\u001b[0;34m*\u001b[0m\u001b[0margs\u001b[0m\u001b[0;34m[\u001b[0m\u001b[0;34m:\u001b[0m\u001b[0;36m32\u001b[0m\u001b[0;34m]\u001b[0m\u001b[0;34m)\u001b[0m\u001b[0;34m\u001b[0m\u001b[0m\n\u001b[0m\u001b[1;32m    185\u001b[0m     \u001b[0;31m# unfortunately, it cannot handle 32 or more arguments directly\u001b[0m\u001b[0;34m\u001b[0m\u001b[0;34m\u001b[0m\u001b[0m\n\u001b[1;32m    186\u001b[0m     \u001b[0;32mfor\u001b[0m \u001b[0mpos\u001b[0m \u001b[0;32min\u001b[0m \u001b[0mrange\u001b[0m\u001b[0;34m(\u001b[0m\u001b[0;36m32\u001b[0m\u001b[0;34m,\u001b[0m \u001b[0mlen\u001b[0m\u001b[0;34m(\u001b[0m\u001b[0margs\u001b[0m\u001b[0;34m)\u001b[0m\u001b[0;34m,\u001b[0m \u001b[0;36m31\u001b[0m\u001b[0;34m)\u001b[0m\u001b[0;34m:\u001b[0m\u001b[0;34m\u001b[0m\u001b[0m\n",
      "\u001b[0;31mValueError\u001b[0m: shape mismatch: objects cannot be broadcast to a single shape"
     ]
    },
    {
     "data": {
      "image/png": "[encoded data removed]",
      "text/plain": [
       "<Figure size 792x792 with 4 Axes>"
      ]
     },
     "metadata": {},
     "output_type": "display_data"
    }
   ],
   "source": [
    "title_statistics(df, 'reduced_title')"
   ]
  },
  {
   "cell_type": "markdown",
   "metadata": {},
   "source": [
    "## Intermediate results\n",
    "\n",
    "These histograms look a lot more balanced.  In fact, they are almost Gaussian shaped, the maximum length is 8, the minimum length is 0 words, median and mean are close together.  "
   ]
  },
  {
   "cell_type": "code",
   "execution_count": 24,
   "metadata": {},
   "outputs": [],
   "source": [
    "list_of_words = df['reduced_title'].apply(pd.Series).stack().value_counts()"
   ]
  },
  {
   "cell_type": "code",
   "execution_count": 25,
   "metadata": {},
   "outputs": [
    {
     "data": {
      "text/plain": [
       "33985"
      ]
     },
     "execution_count": 25,
     "metadata": {},
     "output_type": "execute_result"
    }
   ],
   "source": [
    "len(list(set(list_of_words.keys())))"
   ]
  }
 ],
 "metadata": {
  "kernelspec": {
   "display_name": "Python 3",
   "language": "python",
   "name": "python3"
  },
  "language_info": {
   "codemirror_mode": {
    "name": "ipython",
    "version": 3
   },
   "file_extension": ".py",
   "mimetype": "text/x-python",
   "name": "python",
   "nbconvert_exporter": "python",
   "pygments_lexer": "ipython3",
   "version": "3.6.5"
  }
 },
 "nbformat": 4,
 "nbformat_minor": 2
}
